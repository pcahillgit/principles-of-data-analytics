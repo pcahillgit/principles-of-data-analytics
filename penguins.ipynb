{
 "cells": [
  {
   "cell_type": "markdown",
   "metadata": {},
   "source": [
    "# **Palmer Penguins**\n",
    "\n",
    "![Penguins](https://upload.wikimedia.org/wikipedia/commons/thumb/a/a3/Gentoo_Penguin_AdF.jpg/640px-Gentoo_Penguin_AdF.png)\n",
    "\n",
    "This notebook contains my analysis of the famous palmer penguins dataset.\n",
    "\n",
    "The dataset is available on GitHub [here](https://allisonhorst.github.io/palmerpenguins/).\n",
    "\n",
    "My analysis will follow the following structure, click any of the headings to jump to that section:\n",
    "\n",
    "1. [**Libraries:**](#lib) in this section I will import the Python libraries used in this notebook and provide a brief explanation of each.\n",
    "2. [**Loading the Data:**](#load) next, the Palmer Penguins dataset will be loaded from a URL.\n",
    "3. [**Types:**](#type) a brief analysis of the types of data contained within the dataset will be given.\n",
    "4. [**Data Visualisation:**](#data) I will then plot a bar chart and histogram of penguin sex and bill depth, respectively.\n",
    "5. [**Correlation:**](#corr) finally, I will check how correlated two variables (flipper lenth and body mass) are; plotting them on scatterplot and assessing their correlation coeeficient.\n",
    "6. [**References.**](#ref) sources of information used to build this notebook: names of authors, titles of work, link to articles if applicable, along with short blurbs on each reference.\n"
   ]
  },
  {
   "cell_type": "markdown",
   "metadata": {},
   "source": [
    "***\n",
    "## 1. Libraries <a id='lib'></a>\n",
    "\n",
    "Pandas is used for the DataFrame data structure. It allows us to investigate CSV files, amongst other features.\n",
    "\n",
    "Matplotlib is a plotting library. Pyplot allows for interactive plots and programmatic plot generation.\n",
    "\n",
    "Numpy is a library used for numerical computing. We will use it to support multidimensional arrays later on in the notebook."
   ]
  },
  {
   "cell_type": "code",
   "execution_count": 181,
   "metadata": {},
   "outputs": [],
   "source": [
    "#Data frames.\n",
    "import pandas as pd\n",
    "\n",
    "#Plotting\n",
    "import matplotlib.pyplot as plt\n",
    "\n",
    "#Numerical Arrays\n",
    "import numpy as np"
   ]
  },
  {
   "cell_type": "markdown",
   "metadata": {},
   "source": [
    "***\n",
    "## 2. Loading the Data \n",
    "\n",
    "The palmer penguins dataset is loaded from a URL."
   ]
  },
  {
   "cell_type": "code",
   "execution_count": 182,
   "metadata": {},
   "outputs": [],
   "source": [
    "#Load the Penguins data set.\n",
    "df = pd.read_csv(\"https://raw.githubusercontent.com/mwaskom/seaborn-data/master/penguins.csv\")"
   ]
  },
  {
   "cell_type": "markdown",
   "metadata": {},
   "source": [
    "Having loaded the data, it can now be examined on a surface level"
   ]
  },
  {
   "cell_type": "code",
   "execution_count": 183,
   "metadata": {},
   "outputs": [
    {
     "data": {
      "text/html": [
       "<div>\n",
       "<style scoped>\n",
       "    .dataframe tbody tr th:only-of-type {\n",
       "        vertical-align: middle;\n",
       "    }\n",
       "\n",
       "    .dataframe tbody tr th {\n",
       "        vertical-align: top;\n",
       "    }\n",
       "\n",
       "    .dataframe thead th {\n",
       "        text-align: right;\n",
       "    }\n",
       "</style>\n",
       "<table border=\"1\" class=\"dataframe\">\n",
       "  <thead>\n",
       "    <tr style=\"text-align: right;\">\n",
       "      <th></th>\n",
       "      <th>species</th>\n",
       "      <th>island</th>\n",
       "      <th>bill_length_mm</th>\n",
       "      <th>bill_depth_mm</th>\n",
       "      <th>flipper_length_mm</th>\n",
       "      <th>body_mass_g</th>\n",
       "      <th>sex</th>\n",
       "    </tr>\n",
       "  </thead>\n",
       "  <tbody>\n",
       "    <tr>\n",
       "      <th>0</th>\n",
       "      <td>Adelie</td>\n",
       "      <td>Torgersen</td>\n",
       "      <td>39.1</td>\n",
       "      <td>18.7</td>\n",
       "      <td>181.0</td>\n",
       "      <td>3750.0</td>\n",
       "      <td>MALE</td>\n",
       "    </tr>\n",
       "    <tr>\n",
       "      <th>1</th>\n",
       "      <td>Adelie</td>\n",
       "      <td>Torgersen</td>\n",
       "      <td>39.5</td>\n",
       "      <td>17.4</td>\n",
       "      <td>186.0</td>\n",
       "      <td>3800.0</td>\n",
       "      <td>FEMALE</td>\n",
       "    </tr>\n",
       "    <tr>\n",
       "      <th>2</th>\n",
       "      <td>Adelie</td>\n",
       "      <td>Torgersen</td>\n",
       "      <td>40.3</td>\n",
       "      <td>18.0</td>\n",
       "      <td>195.0</td>\n",
       "      <td>3250.0</td>\n",
       "      <td>FEMALE</td>\n",
       "    </tr>\n",
       "    <tr>\n",
       "      <th>3</th>\n",
       "      <td>Adelie</td>\n",
       "      <td>Torgersen</td>\n",
       "      <td>NaN</td>\n",
       "      <td>NaN</td>\n",
       "      <td>NaN</td>\n",
       "      <td>NaN</td>\n",
       "      <td>NaN</td>\n",
       "    </tr>\n",
       "    <tr>\n",
       "      <th>4</th>\n",
       "      <td>Adelie</td>\n",
       "      <td>Torgersen</td>\n",
       "      <td>36.7</td>\n",
       "      <td>19.3</td>\n",
       "      <td>193.0</td>\n",
       "      <td>3450.0</td>\n",
       "      <td>FEMALE</td>\n",
       "    </tr>\n",
       "    <tr>\n",
       "      <th>...</th>\n",
       "      <td>...</td>\n",
       "      <td>...</td>\n",
       "      <td>...</td>\n",
       "      <td>...</td>\n",
       "      <td>...</td>\n",
       "      <td>...</td>\n",
       "      <td>...</td>\n",
       "    </tr>\n",
       "    <tr>\n",
       "      <th>339</th>\n",
       "      <td>Gentoo</td>\n",
       "      <td>Biscoe</td>\n",
       "      <td>NaN</td>\n",
       "      <td>NaN</td>\n",
       "      <td>NaN</td>\n",
       "      <td>NaN</td>\n",
       "      <td>NaN</td>\n",
       "    </tr>\n",
       "    <tr>\n",
       "      <th>340</th>\n",
       "      <td>Gentoo</td>\n",
       "      <td>Biscoe</td>\n",
       "      <td>46.8</td>\n",
       "      <td>14.3</td>\n",
       "      <td>215.0</td>\n",
       "      <td>4850.0</td>\n",
       "      <td>FEMALE</td>\n",
       "    </tr>\n",
       "    <tr>\n",
       "      <th>341</th>\n",
       "      <td>Gentoo</td>\n",
       "      <td>Biscoe</td>\n",
       "      <td>50.4</td>\n",
       "      <td>15.7</td>\n",
       "      <td>222.0</td>\n",
       "      <td>5750.0</td>\n",
       "      <td>MALE</td>\n",
       "    </tr>\n",
       "    <tr>\n",
       "      <th>342</th>\n",
       "      <td>Gentoo</td>\n",
       "      <td>Biscoe</td>\n",
       "      <td>45.2</td>\n",
       "      <td>14.8</td>\n",
       "      <td>212.0</td>\n",
       "      <td>5200.0</td>\n",
       "      <td>FEMALE</td>\n",
       "    </tr>\n",
       "    <tr>\n",
       "      <th>343</th>\n",
       "      <td>Gentoo</td>\n",
       "      <td>Biscoe</td>\n",
       "      <td>49.9</td>\n",
       "      <td>16.1</td>\n",
       "      <td>213.0</td>\n",
       "      <td>5400.0</td>\n",
       "      <td>MALE</td>\n",
       "    </tr>\n",
       "  </tbody>\n",
       "</table>\n",
       "<p>344 rows × 7 columns</p>\n",
       "</div>"
      ],
      "text/plain": [
       "    species     island  bill_length_mm  bill_depth_mm  flipper_length_mm  \\\n",
       "0    Adelie  Torgersen            39.1           18.7              181.0   \n",
       "1    Adelie  Torgersen            39.5           17.4              186.0   \n",
       "2    Adelie  Torgersen            40.3           18.0              195.0   \n",
       "3    Adelie  Torgersen             NaN            NaN                NaN   \n",
       "4    Adelie  Torgersen            36.7           19.3              193.0   \n",
       "..      ...        ...             ...            ...                ...   \n",
       "339  Gentoo     Biscoe             NaN            NaN                NaN   \n",
       "340  Gentoo     Biscoe            46.8           14.3              215.0   \n",
       "341  Gentoo     Biscoe            50.4           15.7              222.0   \n",
       "342  Gentoo     Biscoe            45.2           14.8              212.0   \n",
       "343  Gentoo     Biscoe            49.9           16.1              213.0   \n",
       "\n",
       "     body_mass_g     sex  \n",
       "0         3750.0    MALE  \n",
       "1         3800.0  FEMALE  \n",
       "2         3250.0  FEMALE  \n",
       "3            NaN     NaN  \n",
       "4         3450.0  FEMALE  \n",
       "..           ...     ...  \n",
       "339          NaN     NaN  \n",
       "340       4850.0  FEMALE  \n",
       "341       5750.0    MALE  \n",
       "342       5200.0  FEMALE  \n",
       "343       5400.0    MALE  \n",
       "\n",
       "[344 rows x 7 columns]"
      ]
     },
     "execution_count": 183,
     "metadata": {},
     "output_type": "execute_result"
    }
   ],
   "source": [
    "#Having a look\n",
    "df"
   ]
  },
  {
   "cell_type": "markdown",
   "metadata": {},
   "source": [
    "\n",
    "Now that the dataset is loaded in we can begin to explore the data held within it.\n",
    "\n",
    "This dataset focuses on three species of penguins across three islands in the Palmer Archipeligo.\n",
    "\n",
    "We can check what these species are and how many of them were recorded on each island. <a id='load'></a>"
   ]
  },
  {
   "cell_type": "code",
   "execution_count": 184,
   "metadata": {},
   "outputs": [
    {
     "data": {
      "text/html": [
       "<div>\n",
       "<style scoped>\n",
       "    .dataframe tbody tr th:only-of-type {\n",
       "        vertical-align: middle;\n",
       "    }\n",
       "\n",
       "    .dataframe tbody tr th {\n",
       "        vertical-align: top;\n",
       "    }\n",
       "\n",
       "    .dataframe thead th {\n",
       "        text-align: right;\n",
       "    }\n",
       "</style>\n",
       "<table border=\"1\" class=\"dataframe\">\n",
       "  <thead>\n",
       "    <tr style=\"text-align: right;\">\n",
       "      <th></th>\n",
       "      <th>species</th>\n",
       "      <th>island</th>\n",
       "      <th>count</th>\n",
       "    </tr>\n",
       "  </thead>\n",
       "  <tbody>\n",
       "    <tr>\n",
       "      <th>0</th>\n",
       "      <td>Adelie</td>\n",
       "      <td>Biscoe</td>\n",
       "      <td>44</td>\n",
       "    </tr>\n",
       "    <tr>\n",
       "      <th>1</th>\n",
       "      <td>Adelie</td>\n",
       "      <td>Dream</td>\n",
       "      <td>56</td>\n",
       "    </tr>\n",
       "    <tr>\n",
       "      <th>2</th>\n",
       "      <td>Adelie</td>\n",
       "      <td>Torgersen</td>\n",
       "      <td>52</td>\n",
       "    </tr>\n",
       "    <tr>\n",
       "      <th>3</th>\n",
       "      <td>Chinstrap</td>\n",
       "      <td>Dream</td>\n",
       "      <td>68</td>\n",
       "    </tr>\n",
       "    <tr>\n",
       "      <th>4</th>\n",
       "      <td>Gentoo</td>\n",
       "      <td>Biscoe</td>\n",
       "      <td>124</td>\n",
       "    </tr>\n",
       "  </tbody>\n",
       "</table>\n",
       "</div>"
      ],
      "text/plain": [
       "     species     island  count\n",
       "0     Adelie     Biscoe     44\n",
       "1     Adelie      Dream     56\n",
       "2     Adelie  Torgersen     52\n",
       "3  Chinstrap      Dream     68\n",
       "4     Gentoo     Biscoe    124"
      ]
     },
     "execution_count": 184,
     "metadata": {},
     "output_type": "execute_result"
    }
   ],
   "source": [
    "# Grouping by species and island and counting the number of penguins\n",
    "penguins_by_species_island = df.groupby(['species', 'island']).size().reset_index(name='count')\n",
    "\n",
    "# Displaying the counts\n",
    "penguins_by_species_island"
   ]
  },
  {
   "cell_type": "markdown",
   "metadata": {},
   "source": [
    "Evidently, there are 344 penguins involved in the study. These are made up of:\n",
    "\n",
    "- 68 **Chinstrap** penguins (all recorded on Dream).\n",
    "- 124 **Gentoo** penguins (all recorded on Biscoe).\n",
    "- 152 **Adelie** penguins (spread across Dream, Biscoe and Torgersen)."
   ]
  },
  {
   "cell_type": "markdown",
   "metadata": {},
   "source": [
    "***\n",
    "## 3. Types \n",
    "\n",
    "The variables that we found in the section above are made up of different *types* of data.\n",
    "\n",
    "Let's gain some insight into the types of data this dataset holds:"
   ]
  },
  {
   "cell_type": "code",
   "execution_count": 185,
   "metadata": {},
   "outputs": [
    {
     "data": {
      "text/plain": [
       "species               object\n",
       "island                object\n",
       "bill_length_mm       float64\n",
       "bill_depth_mm        float64\n",
       "flipper_length_mm    float64\n",
       "body_mass_g          float64\n",
       "sex                   object\n",
       "dtype: object"
      ]
     },
     "execution_count": 185,
     "metadata": {},
     "output_type": "execute_result"
    }
   ],
   "source": [
    "#Inspecting types\n",
    "df.dtypes"
   ]
  },
  {
   "cell_type": "markdown",
   "metadata": {},
   "source": [
    "As we can see above, there are 'object' and 'float64' types in this dataset. In this case, the 'objects' are strings and 'float64' stands for floats (stored using 64 bits).\n",
    "\n",
    "**Strings**: used to represent textual data, in this case it's the categorical data: species, island and sex. In Python, strings are made up of a number of characters (letters, numbers, symbols, spaces) enclosed by single or double quotes.\n",
    "\n",
    "**Floats**: Floating point numbers, the type of data which represents numbers with a decimal point. In the Palmer Penguins dataset there are four variables that hold numerical data with decimal points: bill length, bill depth, flipper length and body mass. These floats are stored within 64 bits. Storing floats can have it's potential pifals; from not being able to store the largest floats with absolute precision to sometimes losing precision when carrying out certain arethmetic. However, the numbers involved in this particular dataset are neither too large nor is this study examining them with such a level of rigour for us to worry about the floating point numbers involved (we arent launching rockets... *yet*).\n",
    "\n",
    "Using the floating point variables, we can run the dataset through the describe function to examine the perameters of the numerical data. <a id='type'></a>"
   ]
  },
  {
   "cell_type": "code",
   "execution_count": 186,
   "metadata": {},
   "outputs": [
    {
     "data": {
      "text/html": [
       "<div>\n",
       "<style scoped>\n",
       "    .dataframe tbody tr th:only-of-type {\n",
       "        vertical-align: middle;\n",
       "    }\n",
       "\n",
       "    .dataframe tbody tr th {\n",
       "        vertical-align: top;\n",
       "    }\n",
       "\n",
       "    .dataframe thead th {\n",
       "        text-align: right;\n",
       "    }\n",
       "</style>\n",
       "<table border=\"1\" class=\"dataframe\">\n",
       "  <thead>\n",
       "    <tr style=\"text-align: right;\">\n",
       "      <th></th>\n",
       "      <th>bill_length_mm</th>\n",
       "      <th>bill_depth_mm</th>\n",
       "      <th>flipper_length_mm</th>\n",
       "      <th>body_mass_g</th>\n",
       "    </tr>\n",
       "  </thead>\n",
       "  <tbody>\n",
       "    <tr>\n",
       "      <th>count</th>\n",
       "      <td>342.000000</td>\n",
       "      <td>342.000000</td>\n",
       "      <td>342.000000</td>\n",
       "      <td>342.000000</td>\n",
       "    </tr>\n",
       "    <tr>\n",
       "      <th>mean</th>\n",
       "      <td>43.921930</td>\n",
       "      <td>17.151170</td>\n",
       "      <td>200.915205</td>\n",
       "      <td>4201.754386</td>\n",
       "    </tr>\n",
       "    <tr>\n",
       "      <th>std</th>\n",
       "      <td>5.459584</td>\n",
       "      <td>1.974793</td>\n",
       "      <td>14.061714</td>\n",
       "      <td>801.954536</td>\n",
       "    </tr>\n",
       "    <tr>\n",
       "      <th>min</th>\n",
       "      <td>32.100000</td>\n",
       "      <td>13.100000</td>\n",
       "      <td>172.000000</td>\n",
       "      <td>2700.000000</td>\n",
       "    </tr>\n",
       "    <tr>\n",
       "      <th>25%</th>\n",
       "      <td>39.225000</td>\n",
       "      <td>15.600000</td>\n",
       "      <td>190.000000</td>\n",
       "      <td>3550.000000</td>\n",
       "    </tr>\n",
       "    <tr>\n",
       "      <th>50%</th>\n",
       "      <td>44.450000</td>\n",
       "      <td>17.300000</td>\n",
       "      <td>197.000000</td>\n",
       "      <td>4050.000000</td>\n",
       "    </tr>\n",
       "    <tr>\n",
       "      <th>75%</th>\n",
       "      <td>48.500000</td>\n",
       "      <td>18.700000</td>\n",
       "      <td>213.000000</td>\n",
       "      <td>4750.000000</td>\n",
       "    </tr>\n",
       "    <tr>\n",
       "      <th>max</th>\n",
       "      <td>59.600000</td>\n",
       "      <td>21.500000</td>\n",
       "      <td>231.000000</td>\n",
       "      <td>6300.000000</td>\n",
       "    </tr>\n",
       "  </tbody>\n",
       "</table>\n",
       "</div>"
      ],
      "text/plain": [
       "       bill_length_mm  bill_depth_mm  flipper_length_mm  body_mass_g\n",
       "count      342.000000     342.000000         342.000000   342.000000\n",
       "mean        43.921930      17.151170         200.915205  4201.754386\n",
       "std          5.459584       1.974793          14.061714   801.954536\n",
       "min         32.100000      13.100000         172.000000  2700.000000\n",
       "25%         39.225000      15.600000         190.000000  3550.000000\n",
       "50%         44.450000      17.300000         197.000000  4050.000000\n",
       "75%         48.500000      18.700000         213.000000  4750.000000\n",
       "max         59.600000      21.500000         231.000000  6300.000000"
      ]
     },
     "execution_count": 186,
     "metadata": {},
     "output_type": "execute_result"
    }
   ],
   "source": [
    "#Summary of data\n",
    "df.describe()"
   ]
  },
  {
   "cell_type": "markdown",
   "metadata": {},
   "source": [
    "The above table will come in handy in the next section as we can use it to gather a quick snapchot of the boundaries of the data and guage how the variables might be plotted."
   ]
  },
  {
   "cell_type": "markdown",
   "metadata": {},
   "source": [
    "***\n",
    "## 4. Data Visualisation \n",
    "\n",
    "Having an understanding of the structure of the data and the types of variables within it, we can now have a play around with the data visually and plot it in various ways.\n",
    "\n",
    "Let's begin by plotting a barchart of the sex of the penguins involved in this study. We will differentiate the colours of the two categories (male and female) so as to distinguish them.\n",
    "\n"
   ]
  },
  {
   "cell_type": "code",
   "execution_count": 187,
   "metadata": {},
   "outputs": [
    {
     "data": {
      "image/png": "[encoded data removed]",
      "text/plain": [
       "<Figure size 640x480 with 1 Axes>"
      ]
     },
     "metadata": {},
     "output_type": "display_data"
    }
   ],
   "source": [
    "#counting penguins per sex\n",
    "sex_counts = df['sex'].value_counts()\n",
    "\n",
    "#defining the colours for each sex\n",
    "colors = ('dodgerblue', 'skyblue')\n",
    "\n",
    "#plotting the barchart, adding colours\n",
    "plt.bar(sex_counts.index, sex_counts, color=colors)\n",
    "\n",
    "#Axis Labels\n",
    "plt.xlabel('Sex')\n",
    "plt.ylabel('Number of Penguins')\n",
    "\n",
    "#Title\n",
    "plt.title('Distribution of Penguin by Sex')\n",
    "\n",
    "#displaying the plot\n",
    "plt.show()\n"
   ]
  },
  {
   "cell_type": "markdown",
   "metadata": {},
   "source": [
    "Our barchart shows a fairly even spread between male and female penguins, with slighly more male penguins being counted in the study.\n",
    "\n",
    "Next, let's create a histogram of the bill depth of the penguins. Our histogram should show us, at a glance, the distribution of penguin bill depths. <a id='data'></a>"
   ]
  },
  {
   "cell_type": "code",
   "execution_count": 188,
   "metadata": {},
   "outputs": [
    {
     "data": {
      "text/plain": [
       "<function matplotlib.pyplot.show(close=None, block=None)>"
      ]
     },
     "execution_count": 188,
     "metadata": {},
     "output_type": "execute_result"
    },
    {
     "data": {
      "image/png": "[encoded data removed]",
      "text/plain": [
       "<Figure size 640x480 with 1 Axes>"
      ]
     },
     "metadata": {},
     "output_type": "display_data"
    }
   ],
   "source": [
    "#Plotting the histogram, setting the number of bins, outlining bins in black\n",
    "plt.hist(df['bill_depth_mm'], bins=15, edgecolor='black')\n",
    "\n",
    "#Axis Labels\n",
    "plt.xlabel('Bill Depth (mm)')\n",
    "plt.ylabel('Number of Penguins')\n",
    "\n",
    "#Title\n",
    "plt.title('Histogram of Penguin Bill Depth')\n",
    "\n",
    "# X Limits\n",
    "plt.xlim(12, 22.5)\n",
    "\n",
    "# Y Limits\n",
    "plt.ylim(0, 45)\n",
    "\n",
    "#displaying plot\n",
    "plt.show"
   ]
  },
  {
   "cell_type": "markdown",
   "metadata": {},
   "source": [
    "The above histogram contains data for the three sets of penguin species.\n",
    "\n",
    "If we were to plot each species individually we can see why the above plot appears to have two 'peaks', or why it doesnt seem to have a typical Guassian, or bell curve, distribution.\n",
    "\n",
    "The first of these 'peaks' is in fact the bill depth at which the Gentoo penguins have their mode. The socond is both the Adelies and Chinstraps. This will be evident from the histogram below which plots each species individually in the same plot."
   ]
  },
  {
   "cell_type": "code",
   "execution_count": 189,
   "metadata": {},
   "outputs": [
    {
     "data": {
      "image/png": "[encoded data removed]",
      "text/plain": [
       "<Figure size 640x480 with 1 Axes>"
      ]
     },
     "metadata": {},
     "output_type": "display_data"
    }
   ],
   "source": [
    "#Filtering the dataset by species\n",
    "adelies_billdepth = df[df['species'] == 'Adelie']['bill_depth_mm']\n",
    "chinstraps_billdepth = df[df['species'] == 'Chinstrap']['bill_depth_mm']\n",
    "gentoos_billdepth = df[df['species'] == 'Gentoo']['bill_depth_mm']\n",
    "\n",
    "#plotting the three species individually on one plot, distinguishing by colour, labelling and adding a light transparency (alpha)\n",
    "plt.hist(adelies_billdepth, bins=10, color='purple', alpha=0.8, label='Adelie')\n",
    "plt.hist(chinstraps_billdepth, bins=10, color='indigo', alpha=0.8, label='Chinstrap')\n",
    "plt.hist(gentoos_billdepth, bins=10, color='violet', alpha=0.8, label='Gentoo')\n",
    "\n",
    "#Axis labels\n",
    "plt.xlabel('Bill Depth (mm)')\n",
    "plt.ylabel('Number of Penguins')\n",
    "\n",
    "#Title\n",
    "plt.title('Histogram of Bill Depth (by Species)')\n",
    "\n",
    "#legend\n",
    "plt.legend()\n",
    "\n",
    "#displaying plot\n",
    "plt.show()"
   ]
  },
  {
   "cell_type": "markdown",
   "metadata": {},
   "source": [
    "***\n",
    "## 5. Correlation\n",
    "\n",
    "Having plot some single variable plots, it's time to move on to comparing two variables together.\n",
    "\n",
    "In this final section we will compare the variables flipper length and body mass.\n",
    "\n",
    "We can use numpy to create an array for the two variables (this isolate the raw values from the dataframe). We will then use matplotlib to plot those values.\n",
    "\n",
    "Below, we take a quick look at the two arrays created by printing the first 25 values of each. You can also see that these sets of numbers are of type 'array' by printing their type."
   ]
  },
  {
   "cell_type": "code",
   "execution_count": 190,
   "metadata": {},
   "outputs": [
    {
     "name": "stdout",
     "output_type": "stream",
     "text": [
      "[181. 186. 195.  nan 193. 190. 181. 195. 193. 190. 186. 180. 182. 191.\n",
      " 198. 185. 195. 197. 184. 194. 174. 180. 189. 185. 180.]\n",
      "<class 'numpy.ndarray'>\n"
     ]
    }
   ],
   "source": [
    "#Flipper length\n",
    "flength = df['flipper_length_mm'].to_numpy()\n",
    "\n",
    "#Show(first values)\n",
    "print(flength[:25])\n",
    "\n",
    "#Type\n",
    "print(type(flength))"
   ]
  },
  {
   "cell_type": "code",
   "execution_count": 191,
   "metadata": {},
   "outputs": [
    {
     "name": "stdout",
     "output_type": "stream",
     "text": [
      "[3750. 3800. 3250.   nan 3450. 3650. 3625. 4675. 3475. 4250. 3300. 3700.\n",
      " 3200. 3800. 4400. 3700. 3450. 4500. 3325. 4200. 3400. 3600. 3800. 3950.\n",
      " 3800.]\n",
      "<class 'numpy.ndarray'>\n"
     ]
    }
   ],
   "source": [
    "#body mass\n",
    "bmass = df['body_mass_g'].to_numpy()\n",
    "\n",
    "#Show(first values)\n",
    "print(bmass[:25])\n",
    "\n",
    "#Type\n",
    "print(type(bmass))"
   ]
  },
  {
   "cell_type": "markdown",
   "metadata": {},
   "source": [
    "Having the two arrays created, we can now plot them together on a scatterplot.\n",
    "\n",
    "Before we do this, let's create a line of best fit to add to that plot.\n",
    "\n",
    "We will need to remove NaN (not a number) values first. This is an example of data cleansing; tidying the dataset so that only it is more reliable for analysis. <a id='corr'></a>"
   ]
  },
  {
   "cell_type": "code",
   "execution_count": 192,
   "metadata": {},
   "outputs": [
    {
     "data": {
      "text/plain": [
       "(49.68556640610011, -5780.831358077061)"
      ]
     },
     "execution_count": 192,
     "metadata": {},
     "output_type": "execute_result"
    }
   ],
   "source": [
    "# Checking for NaN values in flength and bmass\n",
    "NaNs = np.isnan(flength) | np.isnan(bmass)\n",
    "\n",
    "# Removing NaN values from flength and bmass\n",
    "flength_clean = flength[~NaNs]\n",
    "bmass_clean = bmass[~NaNs]\n",
    "\n",
    "# Calculate the line of best fit\n",
    "m, c = np.polyfit(flength_clean, bmass_clean, 1)\n",
    "\n",
    "#show m and c\n",
    "m, c"
   ]
  },
  {
   "cell_type": "markdown",
   "metadata": {},
   "source": [
    "Let's now create 100 values per axes to plot a best fit line."
   ]
  },
  {
   "cell_type": "code",
   "execution_count": 193,
   "metadata": {},
   "outputs": [],
   "source": [
    "#x values for best fit line\n",
    "bf_x = np.linspace(170, flength_clean.max() + 1, 100)\n",
    "\n",
    "#y values for best fit line\n",
    "bf_y = m * bf_x + c"
   ]
  },
  {
   "cell_type": "markdown",
   "metadata": {},
   "source": [
    "We can now plot the flipper length and body mass data on a scatterplot, along with the line of best fit."
   ]
  },
  {
   "cell_type": "code",
   "execution_count": 194,
   "metadata": {},
   "outputs": [
    {
     "data": {
      "text/plain": [
       "(2500.0, 6500.0)"
      ]
     },
     "execution_count": 194,
     "metadata": {},
     "output_type": "execute_result"
    },
    {
     "data": {
      "image/png": "[encoded data removed]",
      "text/plain": [
       "<Figure size 640x480 with 1 Axes>"
      ]
     },
     "metadata": {},
     "output_type": "display_data"
    }
   ],
   "source": [
    "#creating figure and set of axes.\n",
    "fig, ax = plt.subplots()\n",
    "\n",
    "#plotting values (as dots)\n",
    "ax.plot(flength, bmass, 'o')\n",
    "\n",
    "#plotting line of best fit as a red line\n",
    "ax.plot(bf_x, bf_y, 'r-')\n",
    "\n",
    "#Axis Labels\n",
    "ax.set_xlabel('Flipper Length (mm)')\n",
    "ax.set_ylabel('Body Mass (g)')\n",
    "\n",
    "#Title\n",
    "ax.set_title('Penguin Size')\n",
    "\n",
    "# X Limits\n",
    "ax.set_xlim(170, 232)\n",
    "\n",
    "# Y Limits\n",
    "ax.set_ylim(2500, 6500)"
   ]
  },
  {
   "cell_type": "markdown",
   "metadata": {},
   "source": [
    "Above, we have our scatterplot comparing body mass and flipper length.\n",
    "\n",
    "From a quick visual inspection of the plot, it does appear that there is a positive correlation between the two variables: as body mass increases, so too does flipper length.\n",
    "\n",
    "To add to the validity to our results we should also check their correlation coefficient.\n",
    "\n",
    "The Pearson correlation coefficient is a numerical measure of linear correlation: as two variables become more strongly associated they will come closer to a Pearson correlation coefficient of +1 (positive relationship) or -1 (negative relationship). If the Pearsons correlation coefficient is exactly +1, then all the values would be on our line of best fit."
   ]
  },
  {
   "cell_type": "code",
   "execution_count": 195,
   "metadata": {},
   "outputs": [
    {
     "data": {
      "text/plain": [
       "array([[1.        , 0.87120177],\n",
       "       [0.87120177, 1.        ]])"
      ]
     },
     "execution_count": 195,
     "metadata": {},
     "output_type": "execute_result"
    }
   ],
   "source": [
    "#Measuring the correlation\n",
    "np.corrcoef(flength_clean, bmass_clean)"
   ]
  },
  {
   "cell_type": "markdown",
   "metadata": {},
   "source": [
    "The Pearson correlation coefficient of the variables flipper length and body mass is 0.87.\n",
    "\n",
    "Evidently, amongst the Palmer Penguins of this study, there is a strong correlation between the length of a penguins flipper and its body mass."
   ]
  },
  {
   "cell_type": "markdown",
   "metadata": {},
   "source": [
    "***\n",
    "## 6. References\n",
    "\n",
    "| Author                                 | Title                                                                                                         | Blurb                           |\n",
    "| :---                                   |    :----:                                                                                                     |          :---:                  |\n",
    "| De Frias, Arturo. Wikimedia Commons | [Gentoo Penguins on \"Penguin Highway\"](https://commons.wikimedia.org/wiki/File:Gentoo_Penguin_AdF.jpg)| This is the cover image used for this notebook (a group of Gentoo penguins).   |\n",
    "| Driscoll, Mike. Real Python         | [*Jupyter Notebook: An Introduction*](https://realpython.com/jupyter-notebook-introduction/)                  | A quick introduction to Jupyter Notebooks.     |\n",
    "| GitHub Docs | [*Basic writing and formatting syntax: Create sophisticated formatting for your prose and code on GitHub with simple syntax*](https://docs.github.com/en/get-started/writing-on-github/getting-started-with-writing-and-formatting-on-github/basic-writing-and-formatting-syntax) | Useful guide for basic markdown; stylising text, making lists, adding images, etc. |\n",
    "| Hunter John, Dale Darren, Firing Eric, Droettboom Michael, Matplotlib Development Team. Matplotlib.org Guides | [*Matplotlib.colors*](https://matplotlib.org/stable/api/colors_api.html#) | Matplotlibs guide to adding colours to plots. This can get quiet in depth, only the basics are utitlised within this notebook. |\n",
    "| Laerd Statistics | [*Pearson's product moment correlation: Statistical tutorials and software guides*](https://statistics.laerd.com/statistical-guides/pearson-correlation-coefficient-statistical-guide.php) | Outlines what Pearson's Correlation Coefficient is as is not, delves further in depth than this notebook does (highlightes 7 assumptions that the variables must meet to be appropriate for testing using the Pearson's correlation). Still, a very approachable guide. |\n",
    "| Pandas Documentation | [*10 Minutes to Pandas Guide*](https://pandas.pydata.org/docs/user_guide/10min.html) | How to create arrays with Panda's, like most of the articles referenced here- this one includes info for both beginners and those with a little more experience. Pick and choose what you need from it. |\n",
    "| Raschka, Sebastian | [Creating a table of contents with internal links in IPython Notebooks and Markdown documents](https://sebastianraschka.com/Articles/2014_ipython_internal_links.html) | In this article, Raschka gives a quick demo on how to create internal, clickable links with HTML- I attempted this at the beggining of my Notebook. |\n",
    "| Solomon, Brad. Real Python | [*Python Plotting with Matplotlib (Guide)*](https://realpython.com/python-matplotlib-guide/) | Lots of useful information on plotting, additional resources are available at the end of the article. |\n",
    "| Tufte, Edward R | *The Visual Display of Quantitative Information: Second Edition*. Cheshire: Graphic Press. | This one provides some best practices for visualy representing data. The standout point for me is to use colour with consideration for those with colourblindness. Tufte highlights that red/green are the most common colours people struggle to see- therefore, blue is a good choice for plotting. Matplotlib uses blue as it's default colour (at least for the plots I created). |\n",
    "| W3 Schools | [*Matplotlib Tutorials*](https://www.w3schools.com/python/matplotlib_intro.asp) | Another useful one for plotting. I used this to see how I could enhance my plots visually by adding titles, legends, etc. |\n",
    "| W3 Schools | [*Python Data Types*](https://www.w3schools.com/python/python_datatypes.asp) | Contains lots of helpful information on the various types of data within Python. |"
   ]
  },
  {
   "cell_type": "markdown",
   "metadata": {},
   "source": [
    "***\n",
    "\n",
    "### End\n",
    "<a id='ref'></a>\n",
    "***"
   ]
  }
 ],
 "metadata": {
  "kernelspec": {
   "display_name": "base",
   "language": "python",
   "name": "python3"
  },
  "language_info": {
   "codemirror_mode": {
    "name": "ipython",
    "version": 3
   },
   "file_extension": ".py",
   "mimetype": "text/x-python",
   "name": "python",
   "nbconvert_exporter": "python",
   "pygments_lexer": "ipython3",
   "version": "3.11.5"
  }
 },
 "nbformat": 4,
 "nbformat_minor": 2
}
